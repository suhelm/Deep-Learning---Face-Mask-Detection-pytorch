{
 "cells": [
  {
   "cell_type": "code",
   "execution_count": null,
   "id": "3380651d",
   "metadata": {},
   "outputs": [],
   "source": [
    "\n"
   ]
  },
  {
   "cell_type": "code",
   "execution_count": 2,
   "id": "8e499818",
   "metadata": {},
   "outputs": [],
   "source": [
    "import torch\n",
    "import torch.nn as nn\n",
    "import torchvision.transforms as transforms\n",
    "from torchvision import datasets\n",
    "import matplotlib.pyplot as plt\n",
    "import numpy as np\n",
    "from torch.utils.data import DataLoader\n",
    "from torchvision.utils import make_grid\n",
    "from torch.utils.data.sampler import SubsetRandomSampler\n",
    "import skorch\n",
    "from sklearn.model_selection import GridSearchCV\n",
    "from sklearn.model_selection import train_test_split\n",
    "from skorch.helper import SliceDataset\n",
    "import joblib\n",
    "from sklearn.metrics import accuracy_score\n",
    "from sklearn.metrics import classification_report\n",
    "from sklearn.metrics import confusion_matrix\n",
    "import seaborn as sn\n",
    "import pandas as pd\n",
    "import warnings\n",
    "from sklearn.metrics import plot_confusion_matrix\n",
    "import warnings\n",
    "warnings.filterwarnings('ignore')\n",
    "\n",
    "num_classes = 4\n",
    "learning_rate = 0.001\n",
    "train_size= .70\n",
    "testsize=.30\n",
    "train_data=None\n",
    "test_set=None\n",
    "#\n",
    "transform = transforms.Compose(\n",
    "[transforms.Resize((32,32)),\n",
    "    transforms.ToTensor(),\n",
    "transforms.Normalize((0.5, 0.5, 0.5), (0.5, 0.5, 0.5))])\n",
    "\n",
    "class AIFaceDetection:\n",
    "    testsize=.3 \n",
    "    train_dataset = None\n",
    "    test_dataset = None\n",
    "    batchsize =32\n",
    "    num_epochs = 4\n",
    "    def __init__(self,dataset_name,model):\n",
    "        \n",
    "        #imagenet_data = torchvision.datasets.ImageNet('./new_dataset/')\n",
    "        dataset = datasets.ImageFolder(('./%s/')%dataset_name,\n",
    "                                          transform=transform)\n",
    "\n",
    "\n",
    "        labels = dataset.classes\n",
    "        classes=dataset.classes\n",
    "        print(labels)\n",
    "\n",
    "        dataset_size = len(dataset)\n",
    "        print(dataset_size)\n",
    "        print(dataset)\n",
    "        test_size = int(testsize * dataset_size)\n",
    "        train_size = dataset_size - test_size\n",
    "        print('>> TRAINING DATA SIZE : ',train_size)\n",
    "        #print(train_size)\n",
    "        print('>> TESTING DATA SIZE : ',test_size )\n",
    "        #print(test_size)\n",
    "        train_dataset,test_dataset = torch.utils.data.random_split(dataset,[train_size,test_size])\n",
    "        \n",
    "        self.test_set=test_dataset\n",
    "        self.train_data=train_dataset\n",
    "        train_loader = torch.utils.data.DataLoader(train_dataset, batch_size=self.batchsize,shuffle = True,num_workers=2)\n",
    "        test_loader = torch.utils.data.DataLoader(test_dataset, batch_size=self.batchsize,shuffle = True,num_workers=2)\n",
    "        \n",
    "        if model == None:\n",
    "            model = self.train(train_loader)\n",
    "            print(\"\\n\\nTraining is completed and model is saved as dataset_name . pkl \\n\\n\")\n",
    "\n",
    "            pkl_model =dataset_name + \".pkl\"\n",
    "            torch.save(model.state_dict(), ('./%s')%pkl_model)\n",
    "        else: \n",
    "            \n",
    "            print(\"\\n\\nNOW USING SAVED MODEL <dataset_name>.pkl\\n\\n\")\n",
    "            model = CNN()\n",
    "            pkl_model =dataset_name + \".pkl\"\n",
    "            \n",
    "            model.load_state_dict(torch.load(('./%s')%pkl_model), strict=False)\n",
    "        print('Evaluating')\n",
    "        true_class,predicted_class = self.test(model,test_loader)\n",
    "        self.evaluate(true_class,predicted_class,labels)\n",
    "    \n",
    "    def train(self,train_loader):\n",
    "        model = CNN()\n",
    "        criterion = nn.CrossEntropyLoss()\n",
    "        optimizer = torch.optim.Adam(model.parameters(), lr=learning_rate)\n",
    "        \n",
    "        total_step = len(train_loader) \n",
    "        loss_list = []\n",
    "        acc_list = []\n",
    "        \n",
    "        for epoch in range(self.num_epochs):\n",
    "          for i, (images, labels) in enumerate(train_loader):\n",
    "            # Forward pass\n",
    "            outputs = model(images)\n",
    "            loss = criterion(outputs, labels) \n",
    "            loss_list.append(loss.item())\n",
    "            # Backprop and optimisation\n",
    "            optimizer.zero_grad()\n",
    "            loss.backward()\n",
    "            optimizer.step()\n",
    "            # Train accuracy\n",
    "            total = labels.size(0)\n",
    "            _, predicted = torch.max(outputs.data, 1)\n",
    "            correct = (predicted == labels).sum().item() \n",
    "            acc_list.append(correct / total)\n",
    "            if (i + 1) % 100 == 0:\n",
    "              print('Epoch [{}/{}], Step [{}/{}], Loss: {:.4f}, Accuracy: {:.2f}%'\n",
    "              .format(epoch + 1, self.num_epochs, i + 1, total_step, loss.item(), (correct / total) * 100))\n",
    "        return model\n",
    "    \n",
    "    def evaluate(self,real_class,predicted_class,labels):\n",
    "   \n",
    "        torch.manual_seed(0)\n",
    "        DEVICE = torch.device(\"cpu\")\n",
    "        y_train = np.array([y for x, y in iter(self.train_data)])\n",
    "        net = skorch.classifier.NeuralNetClassifier(\n",
    "              CNN,\n",
    "              max_epochs=1,\n",
    "              iterator_train__num_workers=4,\n",
    "              iterator_valid__num_workers=4,\n",
    "              lr=1e-3,\n",
    "              batch_size=64,\n",
    "              optimizer=torch.optim.Adam,\n",
    "              criterion=nn.CrossEntropyLoss,\n",
    "              device=DEVICE)\n",
    "        \n",
    "        net.fit(self.train_data, y=y_train)\n",
    "        y_pred = net.predict(self.test_set)\n",
    "        y_test = np.array([y for x, y in iter(self.test_set)])\n",
    "        print (accuracy_score(y_test, y_pred))\n",
    "        plot_confusion_matrix(net, self.test_set, y_test.reshape(-1, 1))\n",
    "        print('show confusion maatrix')\n",
    "        plt.show()\n",
    "        print(classification_report(real_class, predicted_class, target_names=labels))\n",
    "        \n",
    "        return real_class,predicted_class\n",
    "        \n",
    "    \n",
    "    def test(self,model,test_loader):\n",
    "        model.eval() \n",
    "        with torch.no_grad():\n",
    "            correct = 0\n",
    "            total = 0\n",
    "            predicted_class = []\n",
    "            real_class = []\n",
    "            for images, labels in test_loader:\n",
    "                outputs = model(images)\n",
    "                _, predicted = torch.max(outputs.data, 1)\n",
    "                predicted_class += list(predicted.numpy())\n",
    "                real_class += list(labels.numpy())\n",
    "                total += labels.size(0)\n",
    "                correct += (predicted == labels).sum().item()\n",
    "            print('TEST ACCURACY: {} %'. format((correct / total) * 100))\n",
    "        return real_class,predicted_class\n",
    "    \n",
    "   \n",
    "    "
   ]
  },
  {
   "cell_type": "code",
   "execution_count": null,
   "id": "ba822053",
   "metadata": {},
   "outputs": [],
   "source": []
  },
  {
   "cell_type": "code",
   "execution_count": 3,
   "id": "005d0ed1",
   "metadata": {},
   "outputs": [],
   "source": [
    "class CNN(nn.Module):\n",
    "    def __init__(self):\n",
    "        super(CNN, self).__init__()\n",
    "        self.conv_layer = nn.Sequential(\n",
    "        nn.Conv2d(in_channels=3, out_channels=32, kernel_size=3, padding=1),\n",
    "        nn.BatchNorm2d(32),\n",
    "        nn.LeakyReLU(inplace=True),\n",
    "        nn.Conv2d(in_channels=32, out_channels=32, kernel_size=3, padding=1),\n",
    "        nn.BatchNorm2d(32),\n",
    "        nn.LeakyReLU(inplace=True),\n",
    "        nn.MaxPool2d(kernel_size=2, stride=2),\n",
    "        nn.Conv2d(in_channels=32, out_channels=128, kernel_size=3, padding=1),\n",
    "        nn.BatchNorm2d(128),\n",
    "        nn.LeakyReLU(inplace=True),\n",
    "        nn.Conv2d(in_channels=128, out_channels=64, kernel_size=3, padding=1),\n",
    "        nn.BatchNorm2d(64),\n",
    "        nn.LeakyReLU(inplace=True),\n",
    "        nn.MaxPool2d(kernel_size=2, stride=2),\n",
    "        )\n",
    "        self.fc_layer = nn.Sequential(\n",
    "        nn.Dropout(p=0.1),\n",
    "        nn.Linear(8 * 8 * 64, 1000),\n",
    "        nn.ReLU(inplace=True),\n",
    "        nn.Linear(1000, 512),\n",
    "        nn.ReLU(inplace=True),\n",
    "        nn.Dropout(p=0.1),\n",
    "        nn.Linear(512, 10)\n",
    "        )\n",
    "    def forward(self, x):\n",
    "        # conv layers\n",
    "        x = self.conv_layer(x)\n",
    "        # flatten\n",
    "        x = x.view(x.size(0), -1)\n",
    "        # fc layer\n",
    "        x = self.fc_layer(x)\n",
    "        return x"
   ]
  },
  {
   "cell_type": "code",
   "execution_count": 4,
   "id": "72a12a14",
   "metadata": {},
   "outputs": [
    {
     "name": "stdout",
     "output_type": "stream",
     "text": [
      "['people_wearing_cloth_mask', 'people_wearing_ffp2_mask', 'people_wearing_no_mask', 'people_wearing_surgical_mask']\n",
      "5119\n",
      "Dataset ImageFolder\n",
      "    Number of datapoints: 5119\n",
      "    Root location: ./mask_dataset/\n",
      "    StandardTransform\n",
      "Transform: Compose(\n",
      "               Resize(size=(32, 32), interpolation=bilinear, max_size=None, antialias=None)\n",
      "               ToTensor()\n",
      "               Normalize(mean=(0.5, 0.5, 0.5), std=(0.5, 0.5, 0.5))\n",
      "           )\n",
      ">> TRAINING DATA SIZE :  3584\n",
      ">> TESTING DATA SIZE :  1535\n",
      "Epoch [1/4], Step [100/112], Loss: 0.2057, Accuracy: 93.75%\n",
      "Epoch [2/4], Step [100/112], Loss: 0.6652, Accuracy: 87.50%\n",
      "Epoch [3/4], Step [100/112], Loss: 0.1659, Accuracy: 96.88%\n",
      "Epoch [4/4], Step [100/112], Loss: 0.2943, Accuracy: 90.62%\n",
      "\n",
      "\n",
      "Training is completed and model is saved as dataset_name . pkl \n",
      "\n",
      "\n",
      "Evaluating\n",
      "TEST ACCURACY: 93.09446254071662 %\n",
      "  epoch    train_loss    valid_acc    valid_loss      dur\n",
      "-------  ------------  -----------  ------------  -------\n",
      "      1        \u001b[36m0.8640\u001b[0m       \u001b[32m0.8494\u001b[0m        \u001b[35m0.3965\u001b[0m  76.0851\n",
      "0.847557003257329\n",
      "show confusion maatrix\n"
     ]
    },
    {
     "data": {
      "image/png": "[encoded data removed]",
      "text/plain": [
       "<Figure size 432x288 with 2 Axes>"
      ]
     },
     "metadata": {
      "needs_background": "light"
     },
     "output_type": "display_data"
    },
    {
     "name": "stdout",
     "output_type": "stream",
     "text": [
      "                              precision    recall  f1-score   support\n",
      "\n",
      "   people_wearing_cloth_mask       0.94      0.90      0.92       595\n",
      "    people_wearing_ffp2_mask       0.99      0.97      0.98       289\n",
      "      people_wearing_no_mask       0.92      1.00      0.96       286\n",
      "people_wearing_surgical_mask       0.88      0.91      0.89       365\n",
      "\n",
      "                    accuracy                           0.93      1535\n",
      "                   macro avg       0.93      0.94      0.94      1535\n",
      "                weighted avg       0.93      0.93      0.93      1535\n",
      "\n"
     ]
    },
    {
     "data": {
      "text/plain": [
       "<__main__.AIFaceDetection at 0x7ff0a253c400>"
      ]
     },
     "execution_count": 4,
     "metadata": {},
     "output_type": "execute_result"
    }
   ],
   "source": [
    "#THis to train the model, this will take some time to execute.Run once to create the model file\n",
    "AIFaceDetection('mask_dataset',None)"
   ]
  },
  {
   "cell_type": "code",
   "execution_count": 5,
   "id": "f52e6312",
   "metadata": {},
   "outputs": [
    {
     "name": "stdout",
     "output_type": "stream",
     "text": [
      "['people_wearing_cloth_mask', 'people_wearing_ffp2_mask', 'people_wearing_no_mask', 'people_wearing_surgical_mask']\n",
      "5119\n",
      "Dataset ImageFolder\n",
      "    Number of datapoints: 5119\n",
      "    Root location: ./mask_dataset/\n",
      "    StandardTransform\n",
      "Transform: Compose(\n",
      "               Resize(size=(32, 32), interpolation=bilinear, max_size=None, antialias=None)\n",
      "               ToTensor()\n",
      "               Normalize(mean=(0.5, 0.5, 0.5), std=(0.5, 0.5, 0.5))\n",
      "           )\n",
      ">> TRAINING DATA SIZE :  3584\n",
      ">> TESTING DATA SIZE :  1535\n",
      "\n",
      "\n",
      "NOW USING SAVED MODEL <dataset_name>.pkl\n",
      "\n",
      "\n",
      "Evaluating\n",
      "TEST ACCURACY: 94.46254071661238 %\n",
      "  epoch    train_loss    valid_acc    valid_loss      dur\n",
      "-------  ------------  -----------  ------------  -------\n",
      "      1        \u001b[36m1.0389\u001b[0m       \u001b[32m0.8173\u001b[0m        \u001b[35m0.5148\u001b[0m  56.1790\n",
      "0.8338762214983714\n",
      "show confusion maatrix\n"
     ]
    },
    {
     "data": {
      "image/png": "[encoded data removed]",
      "text/plain": [
       "<Figure size 432x288 with 2 Axes>"
      ]
     },
     "metadata": {
      "needs_background": "light"
     },
     "output_type": "display_data"
    },
    {
     "name": "stdout",
     "output_type": "stream",
     "text": [
      "                              precision    recall  f1-score   support\n",
      "\n",
      "   people_wearing_cloth_mask       0.96      0.92      0.94       620\n",
      "    people_wearing_ffp2_mask       1.00      0.98      0.99       315\n",
      "      people_wearing_no_mask       0.94      1.00      0.97       292\n",
      "people_wearing_surgical_mask       0.88      0.91      0.89       308\n",
      "\n",
      "                    accuracy                           0.94      1535\n",
      "                   macro avg       0.94      0.95      0.95      1535\n",
      "                weighted avg       0.95      0.94      0.94      1535\n",
      "\n"
     ]
    },
    {
     "data": {
      "text/plain": [
       "<__main__.AIFaceDetection at 0x7ff0a4f320b8>"
      ]
     },
     "execution_count": 5,
     "metadata": {},
     "output_type": "execute_result"
    }
   ],
   "source": [
    "#THis to use the saved model, this wont train the model but use the saved model\n",
    "AIFaceDetection('mask_dataset','Y') # Second param can be anything as long as it is not None."
   ]
  },
  {
   "cell_type": "code",
   "execution_count": null,
   "id": "3208717c",
   "metadata": {},
   "outputs": [],
   "source": []
  },
  {
   "cell_type": "code",
   "execution_count": null,
   "id": "cadb2fce",
   "metadata": {},
   "outputs": [],
   "source": [
    "# We can test a single image using the below. Place the photo to be tested in test Folder"
   ]
  },
  {
   "cell_type": "code",
   "execution_count": 6,
   "id": "962cb21a",
   "metadata": {},
   "outputs": [],
   "source": [
    "transform = transforms.Compose(\n",
    "[transforms.Resize((32,32)),\n",
    "    transforms.ToTensor(),\n",
    "transforms.Normalize((0.5, 0.5, 0.5), (0.5, 0.5, 0.5))]) \n",
    "\n",
    "\n",
    "\n",
    "test_dataset = datasets.ImageFolder('./testing_dataset/', transform=transform)\n",
    "#test_dataset = datasets.ImageFolder('./testing_dataset/')\n",
    "test_loader = torch.utils.data.DataLoader(test_dataset, batch_size=1,shuffle = True)\n",
    "\n",
    "def test_a_image(model):\n",
    "        model.eval() \n",
    "        actual_lab=None;\n",
    "        predicted_lab=None;\n",
    "        \n",
    "        with torch.no_grad():\n",
    "            for images, labels in test_loader:\n",
    "                \n",
    "                #print(images.name)\n",
    "                \n",
    "                plt.figure(figsize=(16,8))\n",
    "                #plt.figure()\n",
    "                plt.axis('off')\n",
    "                plt.imshow( make_grid(images,nrow=1).permute((1, 2, 0)))\n",
    "                #plt.imshow(np.uint8(make_grid(images,nrow=1)))\n",
    "                outputs = model(images)\n",
    "                _, predicted = torch.max(outputs.data, 1)\n",
    "                print(\"Actual label:\" ,test_dataset.classes[labels.numpy()[0]])\n",
    "                actual_lab=test_dataset.classes[labels.numpy()[0]]\n",
    "                print(\"Prediction: \",test_dataset.classes[predicted[0]])\n",
    "                predicted_lab=test_dataset.classes[predicted[0]]\n",
    "                \n",
    "                break\n",
    "                \n",
    "        if actual_lab != predicted_lab:\n",
    "            print ('WRONG PREDCITION')\n",
    "        else:\n",
    "            print ('CORRECT PREDICTION ! BRAVO')"
   ]
  },
  {
   "cell_type": "code",
   "execution_count": 8,
   "id": "4d41af03",
   "metadata": {},
   "outputs": [
    {
     "name": "stderr",
     "output_type": "stream",
     "text": [
      "Clipping input data to the valid range for imshow with RGB data ([0..1] for floats or [0..255] for integers).\n"
     ]
    },
    {
     "name": "stdout",
     "output_type": "stream",
     "text": [
      "Actual label: people_wearing_cloth_mask\n",
      "Prediction:  people_wearing_cloth_mask\n",
      "CORRECT PREDICTION ! BRAVO\n"
     ]
    },
    {
     "data": {
      "image/png": "[encoded data removed]",
      "text/plain": [
       "<Figure size 1152x576 with 1 Axes>"
      ]
     },
     "metadata": {
      "needs_background": "light"
     },
     "output_type": "display_data"
    }
   ],
   "source": [
    "model = CNN()\n",
    "model.load_state_dict(torch.load(\"./new_dataset.pkl\" ), strict=False)\n",
    "test_a_image(model)"
   ]
  },
  {
   "cell_type": "code",
   "execution_count": null,
   "id": "fab58063",
   "metadata": {},
   "outputs": [],
   "source": []
  },
  {
   "cell_type": "code",
   "execution_count": null,
   "id": "baf2f7bc",
   "metadata": {},
   "outputs": [],
   "source": []
  },
  {
   "cell_type": "code",
   "execution_count": null,
   "id": "2f43c001",
   "metadata": {},
   "outputs": [],
   "source": []
  },
  {
   "cell_type": "code",
   "execution_count": null,
   "id": "e419d47f",
   "metadata": {},
   "outputs": [],
   "source": []
  }
 ],
 "metadata": {
  "kernelspec": {
   "display_name": "Python 3",
   "language": "python",
   "name": "python3"
  },
  "language_info": {
   "codemirror_mode": {
    "name": "ipython",
    "version": 3
   },
   "file_extension": ".py",
   "mimetype": "text/x-python",
   "name": "python",
   "nbconvert_exporter": "python",
   "pygments_lexer": "ipython3",
   "version": "3.6.13"
  }
 },
 "nbformat": 4,
 "nbformat_minor": 5
}
